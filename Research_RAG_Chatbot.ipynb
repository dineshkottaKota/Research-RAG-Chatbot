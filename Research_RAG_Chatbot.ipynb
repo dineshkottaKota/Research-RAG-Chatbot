{
  "nbformat": 4,
  "nbformat_minor": 0,
  "metadata": {
    "colab": {
      "provenance": []
    },
    "kernelspec": {
      "name": "python3",
      "display_name": "Python 3"
    },
    "language_info": {
      "name": "python"
    }
  },
  "cells": [
    {
      "cell_type": "code",
      "execution_count": null,
      "metadata": {
        "id": "pZjwCplSuyc7"
      },
      "outputs": [],
      "source": [
        "pip install openai"
      ]
    },
    {
      "cell_type": "code",
      "source": [
        "pip install langchain"
      ],
      "metadata": {
        "collapsed": true,
        "id": "c5ZuOb4uv0Nd"
      },
      "execution_count": null,
      "outputs": []
    },
    {
      "cell_type": "code",
      "source": [
        "pip install langchain_community"
      ],
      "metadata": {
        "collapsed": true,
        "id": "pcxQpyM4v2N1"
      },
      "execution_count": null,
      "outputs": []
    },
    {
      "cell_type": "code",
      "source": [
        "pip install faiss-cpu"
      ],
      "metadata": {
        "collapsed": true,
        "id": "CsegP-eAv4Fh"
      },
      "execution_count": null,
      "outputs": []
    },
    {
      "cell_type": "code",
      "source": [
        "!pip install langchain_groq"
      ],
      "metadata": {
        "id": "dUwT0xX-1Ilt"
      },
      "execution_count": null,
      "outputs": []
    },
    {
      "cell_type": "code",
      "source": [
        "pip install pypdf"
      ],
      "metadata": {
        "id": "6oIZkbct1ZCM"
      },
      "execution_count": null,
      "outputs": []
    },
    {
      "cell_type": "markdown",
      "source": [
        "# Importing Libraries"
      ],
      "metadata": {
        "id": "0FgqqIofwEEC"
      }
    },
    {
      "cell_type": "code",
      "source": [
        "GROQ_API_KEY=\"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\""
      ],
      "metadata": {
        "id": "28jC6-xzwxLI"
      },
      "execution_count": 18,
      "outputs": []
    },
    {
      "cell_type": "code",
      "source": [
        "import os\n",
        "from langchain.vectorstores import FAISS\n",
        "from langchain.embeddings import HuggingFaceEmbeddings\n",
        "from langchain.text_splitter import RecursiveCharacterTextSplitter\n",
        "from langchain.document_loaders import PyPDFLoader\n",
        "from langchain.prompts import PromptTemplate\n",
        "from langchain_groq import ChatGroq\n",
        "from langchain.chains import ConversationalRetrievalChain\n",
        "\n",
        "# 1. Set GROQ API key\n",
        "os.environ[\"GROQ_API_KEY\"] = GROQ_API_KEY\n",
        "\n",
        "# 2. Load PDF and split into chunks\n",
        "loader = PyPDFLoader(\"Java Notes.pdf\")\n",
        "docs = loader.load()\n",
        "\n",
        "text_splitter = RecursiveCharacterTextSplitter(chunk_size=500, chunk_overlap=50)\n",
        "splits = text_splitter.split_documents(docs)\n",
        "\n",
        "# 3. Embed chunks and store in FAISS index\n",
        "embedding_model = HuggingFaceEmbeddings(model_name=\"sentence-transformers/all-MiniLM-L6-v2\")\n",
        "vectorstore = FAISS.from_documents(splits, embedding_model)\n",
        "\n",
        "# 4. Setup Groq Chat model with LLaMA3\n",
        "llm = ChatGroq(temperature=0, model_name=\"llama3-8b-8192\")\n"
      ],
      "metadata": {
        "colab": {
          "base_uri": "https://localhost:8080/"
        },
        "id": "YBuMk1jVwCNl",
        "outputId": "363b4384-6328-43c3-e9d2-c28410ab4fea"
      },
      "execution_count": 31,
      "outputs": [
        {
          "output_type": "stream",
          "name": "stderr",
          "text": [
            "WARNING:pypdf._reader:Ignoring wrong pointing object 801 0 (offset 0)\n"
          ]
        }
      ]
    },
    {
      "cell_type": "code",
      "source": [
        "# 5. Condense question prompt (used for follow-up questions)\n",
        "CONDENSE_QUESTION_PROMPT = PromptTemplate.from_template(\"\"\"\n",
        "Given the following conversation and a follow-up question, rephrase the follow-up to be a standalone question.\n",
        "\n",
        "Chat History:\n",
        "{chat_history}\n",
        "Follow-up Input: {question}\n",
        "Standalone question:\n",
        "\"\"\")\n",
        "\n",
        "#6. Create the conversational retrieval chain\n",
        "qa = ConversationalRetrievalChain.from_llm(\n",
        "    llm=llm,\n",
        "    retriever=vectorstore.as_retriever(),\n",
        "    condense_question_prompt=CONDENSE_QUESTION_PROMPT,\n",
        "    return_source_documents=True,\n",
        "    verbose=False\n",
        ")\n"
      ],
      "metadata": {
        "collapsed": true,
        "id": "IbBVNyxs4fBy"
      },
      "execution_count": null,
      "outputs": []
    },
    {
      "cell_type": "code",
      "source": [
        "#7. Start chat loop\n",
        "chat_history = []\n",
        "\n",
        "query = input(\"\\nYou: \")\n",
        "result = qa.invoke({\"question\": query, \"chat_history\": chat_history})\n",
        "print(\"\\nBot:\", result[\"answer\"])\n",
        "chat_history.append((query, result[\"answer\"]))"
      ],
      "metadata": {
        "colab": {
          "base_uri": "https://localhost:8080/"
        },
        "collapsed": true,
        "id": "ws79IN150fzt",
        "outputId": "8f61a8b1-f842-499b-a4d3-01486e0d9b11"
      },
      "execution_count": 35,
      "outputs": [
        {
          "output_type": "stream",
          "name": "stdout",
          "text": [
            "\n",
            "You: what is oops in java\n",
            "\n",
            "Bot: I can answer that!\n",
            "\n",
            "Object-Oriented Programming (OOP) is a programming paradigm that revolves around the concept of \"objects\" and the interactions between them. In Java, OOP is a fundamental concept that allows developers to create reusable and modular code.\n",
            "\n",
            "The four main principles of OOP in Java are:\n",
            "\n",
            "1. Encapsulation: This means bundling data and methods that operate on that data within a single unit, called a class. This helps to hide the implementation details from the outside world and provides a way to control access to the data.\n",
            "2. Abstraction: This involves showing only the necessary information to the outside world while hiding the internal implementation details. In Java, abstraction is achieved through abstract classes and interfaces.\n",
            "3. Inheritance: This allows a class to inherit the properties and behavior of another class, known as the superclass or parent class. In Java, inheritance is used to create a hierarchy of classes.\n",
            "4. Polymorphism: This is the ability of an object to take on multiple forms. In Java, polymorphism is achieved through method overriding and method overloading.\n",
            "\n",
            "Some of the key concepts in OOP in Java include:\n",
            "\n",
            "* Classes and objects\n",
            "* Constructors\n",
            "* Methods\n",
            "* Fields (data members)\n",
            "* Inheritance\n",
            "* Polymorphism\n",
            "* Abstraction\n",
            "* Encapsulation\n",
            "\n",
            "By using OOP principles, Java developers can create robust, maintainable, and scalable software systems that are easier to understand and modify.\n"
          ]
        }
      ]
    },
    {
      "cell_type": "markdown",
      "source": [],
      "metadata": {
        "id": "bxN2NtXEvpCx"
      }
    },
    {
      "cell_type": "code",
      "source": [],
      "metadata": {
        "id": "AR82Y9j70oe5"
      },
      "execution_count": null,
      "outputs": []
    }
  ]
}